{
 "cells": [
  {
   "cell_type": "code",
   "execution_count": 4,
   "id": "69b32b66-c9b6-466c-b652-39683fdca617",
   "metadata": {},
   "outputs": [],
   "source": [
    "import numpy as np\n",
    "import pandas as pd\n",
    "import matplotlib.pyplot as plt\n",
    "from sklearn.metrics import mean_squared_error, mean_absolute_error"
   ]
  },
  {
   "cell_type": "code",
   "execution_count": 6,
   "id": "c993cad2-90a5-4fbb-932c-88e8e26ff15f",
   "metadata": {},
   "outputs": [],
   "source": [
    "# Given data\n",
    "weights = np.array([2, 4, 5, 3, 6, 5, 7])\n",
    "prices = np.array([35, 60, 20, 50, 50, 55, 60])"
   ]
  },
  {
   "cell_type": "code",
   "execution_count": 8,
   "id": "f6c466bd-2706-4506-96cb-a3f10e0264cf",
   "metadata": {},
   "outputs": [],
   "source": [
    "# Number of data points\n",
    "n = len(weights)"
   ]
  },
  {
   "cell_type": "code",
   "execution_count": 10,
   "id": "ea0c1ec4-1a19-42e4-b0ef-71b8f690459b",
   "metadata": {},
   "outputs": [],
   "source": [
    "# Calculate sums\n",
    "sum_x = np.sum(weights)\n",
    "sum_y = np.sum(prices)\n",
    "sum_xy = np.sum(weights * prices)\n",
    "sum_x2 = np.sum(weights ** 2)"
   ]
  },
  {
   "cell_type": "code",
   "execution_count": 12,
   "id": "a925499b-2ff6-45f8-8ea4-85c59abed68d",
   "metadata": {},
   "outputs": [],
   "source": [
    "# Calculate slope (M) and y-intercept (C)\n",
    "M = (n * sum_xy - sum_x * sum_y) / (n * sum_x2 - sum_x ** 2)\n",
    "C = (sum_y * sum_x2 - sum_x * sum_xy) / (n * sum_x2 - sum_x ** 2)"
   ]
  },
  {
   "cell_type": "code",
   "execution_count": 14,
   "id": "de46f6b6-013d-40bf-9776-906bdbbee2cf",
   "metadata": {},
   "outputs": [],
   "source": [
    "# Predict the price when the weight is 6\n",
    "predicted_price = M * 6 + C"
   ]
  },
  {
   "cell_type": "code",
   "execution_count": 16,
   "id": "d6e576cc-c20c-4854-847b-b637f5ab5bcf",
   "metadata": {},
   "outputs": [
    {
     "name": "stdout",
     "output_type": "stream",
     "text": [
      "50.88709677419355\n"
     ]
    }
   ],
   "source": [
    "print (predicted_price)"
   ]
  },
  {
   "cell_type": "code",
   "execution_count": 18,
   "id": "220bc153-4284-484b-8c84-ef33079dd4ac",
   "metadata": {},
   "outputs": [],
   "source": [
    "# Compute residuals\n",
    "predicted_prices = M * weights + C\n",
    "residuals = prices - predicted_prices"
   ]
  },
  {
   "cell_type": "code",
   "execution_count": 20,
   "id": "fc9a62c5-5cea-4f4e-ba13-eed7d2868d92",
   "metadata": {},
   "outputs": [
    {
     "name": "stdout",
     "output_type": "stream",
     "text": [
      "50.88709677419355\n"
     ]
    }
   ],
   "source": [
    "print (predicted_price)"
   ]
  },
  {
   "cell_type": "code",
   "execution_count": 22,
   "id": "adb237f2-6d25-4bf2-a531-0bc43ea04e3d",
   "metadata": {},
   "outputs": [
    {
     "name": "stdout",
     "output_type": "stream",
     "text": [
      "[ -5.40322581  14.35483871 -28.26612903   6.97580645  -0.88709677\n",
      "   6.73387097   6.49193548]\n"
     ]
    }
   ],
   "source": [
    "print (residuals)"
   ]
  },
  {
   "cell_type": "code",
   "execution_count": 24,
   "id": "053261fc-36c6-43ba-be5b-41e394606be2",
   "metadata": {},
   "outputs": [],
   "source": [
    "# Calculate MSE and MAE\n",
    "mse = mean_squared_error(prices, predicted_prices)\n",
    "mae = mean_absolute_error(prices, predicted_prices)"
   ]
  },
  {
   "cell_type": "code",
   "execution_count": 26,
   "id": "2951099b-32d6-493d-b4e9-854c931a01cc",
   "metadata": {},
   "outputs": [
    {
     "name": "stdout",
     "output_type": "stream",
     "text": [
      "167.30990783410135\n",
      "9.87327188940092\n"
     ]
    }
   ],
   "source": [
    "print(mse)\n",
    "print(mae)"
   ]
  },
  {
   "cell_type": "code",
   "execution_count": 28,
   "id": "4a714edf-ee02-4e1f-a7e5-488a0c3fb394",
   "metadata": {},
   "outputs": [
    {
     "data": {
      "image/png": "[encoded data removed]",
      "text/plain": [
       "<Figure size 640x480 with 1 Axes>"
      ]
     },
     "metadata": {},
     "output_type": "display_data"
    }
   ],
   "source": [
    "# Generate scatter plot\n",
    "plt.scatter(weights, prices, color='blue', label='Actual Prices')\n",
    "plt.plot(weights, predicted_prices, color='red', label='Fitted Line')\n",
    "plt.xlabel('Weight')\n",
    "plt.ylabel('Price')\n",
    "plt.title('Weight vs Price Scatter Plot')\n",
    "plt.legend()\n",
    "plt.show()"
   ]
  },
  {
   "cell_type": "code",
   "execution_count": 30,
   "id": "7b90623a-11dc-4799-b364-ca7515b85678",
   "metadata": {},
   "outputs": [
    {
     "name": "stdout",
     "output_type": "stream",
     "text": [
      "Slope (M): 2.620967741935484\n",
      "Y-Intercept (C): 35.16129032258065\n",
      "Predicted price for weight 6: 50.88709677419355\n",
      "Residuals: [ -5.40322581  14.35483871 -28.26612903   6.97580645  -0.88709677\n",
      "   6.73387097   6.49193548]\n",
      "Mean Squared Error (MSE): 167.30990783410135\n",
      "Mean Absolute Error (MAE): 9.87327188940092\n"
     ]
    }
   ],
   "source": [
    "# Print results\n",
    "print(f\"Slope (M): {M}\")\n",
    "print(f\"Y-Intercept (C): {C}\")\n",
    "print(f\"Predicted price for weight 6: {predicted_price}\")\n",
    "print(f\"Residuals: {residuals}\")\n",
    "print(f\"Mean Squared Error (MSE): {mse}\")\n",
    "print(f\"Mean Absolute Error (MAE): {mae}\")"
   ]
  },
  {
   "cell_type": "code",
   "execution_count": 34,
   "id": "7047849d-7d1c-48b8-8cd5-642b33124f94",
   "metadata": {},
   "outputs": [],
   "source": [
    "# Generate Excel file\n",
    "data = {\n",
    "    'Weight': weights,\n",
    "    'Price': prices,\n",
    "    'Predicted_Price': predicted_prices,\n",
    "    'Residual': residuals\n",
    "}\n",
    "df = pd.DataFrame(data)\n",
    "df.to_excel('vegetable_prices.xlsx', index=False)"
   ]
  },
  {
   "cell_type": "code",
   "execution_count": 36,
   "id": "29366e6b-365e-4894-98ad-7a808a0aaa04",
   "metadata": {},
   "outputs": [
    {
     "name": "stdout",
     "output_type": "stream",
     "text": [
      "Excel file 'vegetable_prices.xlsx' generated successfully.\n"
     ]
    }
   ],
   "source": [
    "print(\"Excel file 'vegetable_prices.xlsx' generated successfully.\")"
   ]
  }
 ],
 "metadata": {
  "kernelspec": {
   "display_name": "Python 3 (ipykernel)",
   "language": "python",
   "name": "python3"
  },
  "language_info": {
   "codemirror_mode": {
    "name": "ipython",
    "version": 3
   },
   "file_extension": ".py",
   "mimetype": "text/x-python",
   "name": "python",
   "nbconvert_exporter": "python",
   "pygments_lexer": "ipython3",
   "version": "3.11.5"
  }
 },
 "nbformat": 4,
 "nbformat_minor": 5
}
